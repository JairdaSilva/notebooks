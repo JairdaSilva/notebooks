{
 "cells": [
  {
   "cell_type": "code",
   "execution_count": null,
   "metadata": {
    "collapsed": false
   },
   "outputs": [],
   "source": [
    "# run(`~/.julia/v0.5/Conda/deps/usr/bin/pip install tensorflow`)\n",
    "# Pkg.add(\"TensorFlow\")\n",
    "# Pkg.checkout(\"TensorFlow\")"
   ]
  },
  {
   "cell_type": "code",
   "execution_count": 1,
   "metadata": {
    "collapsed": false
   },
   "outputs": [
    {
     "name": "stderr",
     "output_type": "stream",
     "text": [
      "INFO: Recompiling stale cache file /Users/tom/.julia/lib/v0.5/TensorFlow.ji for module TensorFlow.\n",
      "WARNING: could not import Base.⊻ into TensorFlow\n"
     ]
    },
    {
     "data": {
      "text/plain": [
       "Session(Ptr{Void} @0x000000010fac0170)"
      ]
     },
     "execution_count": 1,
     "metadata": {},
     "output_type": "execute_result"
    }
   ],
   "source": [
    "using TensorFlow\n",
    "sess = Session()"
   ]
  },
  {
   "cell_type": "code",
   "execution_count": 2,
   "metadata": {
    "collapsed": false
   },
   "outputs": [
    {
     "data": {
      "text/plain": [
       "DataLoader(1,[11492,38211,55322,26564,58440,24535,20338,22434,7193,23272  …  50556,37947,33725,13441,40364,54218,22085,55673,48568,44009])"
      ]
     },
     "execution_count": 2,
     "metadata": {},
     "output_type": "execute_result"
    }
   ],
   "source": [
    "include(Pkg.dir(\"TensorFlow\",\"examples\",\"mnist_loader.jl\"))\n",
    "loader = DataLoader()"
   ]
  },
  {
   "cell_type": "code",
   "execution_count": 3,
   "metadata": {
    "collapsed": false
   },
   "outputs": [
    {
     "data": {
      "text/plain": [
       "<Tensor placeholder_2:1 shape=unknown dtype=Float32>"
      ]
     },
     "execution_count": 3,
     "metadata": {},
     "output_type": "execute_result"
    }
   ],
   "source": [
    "x = placeholder(Float32)\n",
    "y = placeholder(Float32)"
   ]
  },
  {
   "cell_type": "code",
   "execution_count": 4,
   "metadata": {
    "collapsed": false
   },
   "outputs": [],
   "source": [
    "w = Variable(zeros(Float32,784,10))\n",
    "b = Variable(zeros(Float32,10))\n",
    "run(sess, initialize_all_variables())"
   ]
  },
  {
   "cell_type": "code",
   "execution_count": 5,
   "metadata": {
    "collapsed": false
   },
   "outputs": [
    {
     "data": {
      "text/plain": [
       "<Tensor node_3:1 shape=unknown dtype=Float32>"
      ]
     },
     "execution_count": 5,
     "metadata": {},
     "output_type": "execute_result"
    }
   ],
   "source": [
    "y = nn.softmax(x*w+b)"
   ]
  },
  {
   "cell_type": "code",
   "execution_count": 6,
   "metadata": {
    "collapsed": false
   },
   "outputs": [
    {
     "data": {
      "text/plain": [
       "<Tensor node_5:1 shape=unknown dtype=Float32>"
      ]
     },
     "execution_count": 6,
     "metadata": {},
     "output_type": "execute_result"
    }
   ],
   "source": [
    "cross_entropy = reduce_mean(-reduce_sum(y .* log(y), reduction_indices=[2]))"
   ]
  },
  {
   "cell_type": "code",
   "execution_count": 7,
   "metadata": {
    "collapsed": false
   },
   "outputs": [
    {
     "ename": "LoadError",
     "evalue": "LoadError: Tensorflow error: Status: Op type not registered 'Reciprocal' while building NodeDef 'gradients/Log_grad/Reciprocal'\n\nwhile loading In[7], in expression starting on line 1",
     "output_type": "error",
     "traceback": [
      "LoadError: Tensorflow error: Status: Op type not registered 'Reciprocal' while building NodeDef 'gradients/Log_grad/Reciprocal'\n\nwhile loading In[7], in expression starting on line 1",
      "",
      " in check_status(::TensorFlow.Status) at /Users/tom/.julia/v0.5/TensorFlow/src/core.jl:101",
      " in TensorFlow.Operation(::TensorFlow.NodeDescription) at /Users/tom/.julia/v0.5/TensorFlow/src/core.jl:488",
      " in TensorFlow.Operation(::TensorFlow.tensorflow.NodeDef) at /Users/tom/.julia/v0.5/TensorFlow/src/core.jl:678",
      " in extend_graph(::TensorFlow.Graph, ::Array{Any,1}) at /Users/tom/.julia/v0.5/TensorFlow/src/core.jl:79",
      " in gradients(::TensorFlow.Tensor, ::Array{Any,1}) at /Users/tom/.julia/v0.5/TensorFlow/src/core.jl:951",
      " in compute_gradients(::TensorFlow.train.GradientDescentOptimizer, ::TensorFlow.Tensor, ::Void) at /Users/tom/.julia/v0.5/TensorFlow/src/train.jl:46",
      " in #minimize#1(::Void, ::Void, ::String, ::Function, ::TensorFlow.train.GradientDescentOptimizer, ::TensorFlow.Tensor) at /Users/tom/.julia/v0.5/TensorFlow/src/train.jl:38",
      " in minimize(::TensorFlow.train.GradientDescentOptimizer, ::TensorFlow.Tensor) at /Users/tom/.julia/v0.5/TensorFlow/src/train.jl:35"
     ]
    }
   ],
   "source": [
    "train_step = train.minimize(train.GradientDescentOptimizer(.00001), cross_entropy)"
   ]
  },
  {
   "cell_type": "code",
   "execution_count": null,
   "metadata": {
    "collapsed": false
   },
   "outputs": [],
   "source": []
  },
  {
   "cell_type": "code",
   "execution_count": null,
   "metadata": {
    "collapsed": true
   },
   "outputs": [],
   "source": []
  }
 ],
 "metadata": {
  "kernelspec": {
   "display_name": "Julia 0.5.0-rc4",
   "language": "julia",
   "name": "julia-0.5"
  },
  "language_info": {
   "file_extension": ".jl",
   "mimetype": "application/julia",
   "name": "julia",
   "version": "0.5.1"
  }
 },
 "nbformat": 4,
 "nbformat_minor": 0
}
